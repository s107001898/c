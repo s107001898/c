{
  "nbformat": 4,
  "nbformat_minor": 0,
  "metadata": {
    "colab": {
      "name": "Untitled1.ipynb",
      "version": "0.3.2",
      "provenance": [],
      "include_colab_link": true
    },
    "kernelspec": {
      "name": "python3",
      "display_name": "Python 3"
    }
  },
  "cells": [
    {
      "cell_type": "markdown",
      "metadata": {
        "id": "view-in-github",
        "colab_type": "text"
      },
      "source": [
        "<a href=\"https://colab.research.google.com/github/s107001898/c/blob/master/COLAB/4070E061_PY3_2.ipynb\" target=\"_parent\"><img src=\"https://colab.research.google.com/assets/colab-badge.svg\" alt=\"Open In Colab\"/></a>"
      ]
    },
    {
      "metadata": {
        "id": "P6qfl0u9T5pf",
        "colab_type": "code",
        "colab": {
          "base_uri": "https://localhost:8080/",
          "height": 34
        },
        "outputId": "8cf7b299-3ba7-482e-f554-1c34dd8c8697"
      },
      "cell_type": "code",
      "source": [
        "a=10\n",
        "b=20\n",
        "c=20\n",
        "g={'a':6,'b':8}\n",
        "l={'b':9,'c':10}\n",
        "eval(\"a+b+c\",g,l)"
      ],
      "execution_count": 1,
      "outputs": [
        {
          "output_type": "execute_result",
          "data": {
            "text/plain": [
              "25"
            ]
          },
          "metadata": {
            "tags": []
          },
          "execution_count": 1
        }
      ]
    },
    {
      "metadata": {
        "id": "w5A3hYq5XX9j",
        "colab_type": "code",
        "colab": {
          "base_uri": "https://localhost:8080/",
          "height": 34
        },
        "outputId": "59eacbd2-12b6-49ac-d7b9-f48355010a48"
      },
      "cell_type": "code",
      "source": [
        "'%d 八進位是%o , 十六進位是  %x' % (97,97, 97)"
      ],
      "execution_count": 3,
      "outputs": [
        {
          "output_type": "execute_result",
          "data": {
            "text/plain": [
              "'97 八進位是141 , 十六進位是  61'"
            ]
          },
          "metadata": {
            "tags": []
          },
          "execution_count": 3
        }
      ]
    },
    {
      "metadata": {
        "id": "IEBiMd7qYYBG",
        "colab_type": "code",
        "colab": {
          "base_uri": "https://localhost:8080/",
          "height": 34
        },
        "outputId": "4b4f8fd4-f2db-42d2-eead-364d205cc53b"
      },
      "cell_type": "code",
      "source": [
        "\"{0} love {1}......{2}\".format(\"I\",\"BLACKPINK\",\"Jennie\")"
      ],
      "execution_count": 4,
      "outputs": [
        {
          "output_type": "execute_result",
          "data": {
            "text/plain": [
              "'I love BLACKPINK......Jennie'"
            ]
          },
          "metadata": {
            "tags": []
          },
          "execution_count": 4
        }
      ]
    }
  ]
}